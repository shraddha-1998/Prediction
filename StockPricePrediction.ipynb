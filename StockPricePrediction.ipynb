{
  "nbformat": 4,
  "nbformat_minor": 0,
  "metadata": {
    "colab": {
      "name": "Untitled1.ipynb",
      "provenance": []
    },
    "kernelspec": {
      "name": "python3",
      "display_name": "Python 3"
    }
  },
  "cells": [
    {
      "cell_type": "code",
      "metadata": {
        "id": "gqIORWOzN4GV",
        "colab_type": "code",
        "colab": {}
      },
      "source": [
        "# Stock Price Prediction Using Machine Learning\n",
        "# Stock Price Prediction Using Decision Tree & Linear Regression"
      ],
      "execution_count": 159,
      "outputs": []
    },
    {
      "cell_type": "code",
      "metadata": {
        "id": "Y-yL3kE8t_vo",
        "colab_type": "code",
        "colab": {}
      },
      "source": [
        "### Data Collection\n",
        "import pandas_datareader as pdr\n",
        "key=\"\"                             ## Get api-key from pandas_datareader for alpha vantage dataset"
      ],
      "execution_count": 195,
      "outputs": []
    },
    {
      "cell_type": "code",
      "metadata": {
        "id": "TgV4Fs5kdaJ-",
        "colab_type": "code",
        "colab": {}
      },
      "source": [
        "df = pdr.get_data_alphavantage('AAPL', api_key='') ## Use api-key also we can directly upload CSV"
      ],
      "execution_count": 197,
      "outputs": []
    },
    {
      "cell_type": "code",
      "metadata": {
        "id": "-TVOqYaddiSX",
        "colab_type": "code",
        "colab": {}
      },
      "source": [
        "df.to_csv('AAPL.csv')"
      ],
      "execution_count": 198,
      "outputs": []
    },
    {
      "cell_type": "code",
      "metadata": {
        "id": "K-8EuqM5do84",
        "colab_type": "code",
        "colab": {}
      },
      "source": [
        "import pandas as pd"
      ],
      "execution_count": 199,
      "outputs": []
    },
    {
      "cell_type": "code",
      "metadata": {
        "id": "FTTXxih7eeFU",
        "colab_type": "code",
        "colab": {}
      },
      "source": [
        "df=pd.read_csv('AAPL.csv')"
      ],
      "execution_count": 200,
      "outputs": []
    },
    {
      "cell_type": "code",
      "metadata": {
        "id": "36vG8aAwe23S",
        "colab_type": "code",
        "colab": {
          "base_uri": "https://localhost:8080/",
          "height": 297
        },
        "outputId": "d4a8d814-a5e5-4c51-c1aa-b95c9ea4197a"
      },
      "source": [
        "df.head(8)"
      ],
      "execution_count": 201,
      "outputs": [
        {
          "output_type": "execute_result",
          "data": {
            "text/html": [
              "<div>\n",
              "<style scoped>\n",
              "    .dataframe tbody tr th:only-of-type {\n",
              "        vertical-align: middle;\n",
              "    }\n",
              "\n",
              "    .dataframe tbody tr th {\n",
              "        vertical-align: top;\n",
              "    }\n",
              "\n",
              "    .dataframe thead th {\n",
              "        text-align: right;\n",
              "    }\n",
              "</style>\n",
              "<table border=\"1\" class=\"dataframe\">\n",
              "  <thead>\n",
              "    <tr style=\"text-align: right;\">\n",
              "      <th></th>\n",
              "      <th>Unnamed: 0</th>\n",
              "      <th>open</th>\n",
              "      <th>high</th>\n",
              "      <th>low</th>\n",
              "      <th>close</th>\n",
              "      <th>volume</th>\n",
              "    </tr>\n",
              "  </thead>\n",
              "  <tbody>\n",
              "    <tr>\n",
              "      <th>0</th>\n",
              "      <td>2000-08-09</td>\n",
              "      <td>48.13</td>\n",
              "      <td>48.44</td>\n",
              "      <td>47.25</td>\n",
              "      <td>47.50</td>\n",
              "      <td>6779300</td>\n",
              "    </tr>\n",
              "    <tr>\n",
              "      <th>1</th>\n",
              "      <td>2000-08-10</td>\n",
              "      <td>48.00</td>\n",
              "      <td>48.44</td>\n",
              "      <td>47.38</td>\n",
              "      <td>47.56</td>\n",
              "      <td>4494900</td>\n",
              "    </tr>\n",
              "    <tr>\n",
              "      <th>2</th>\n",
              "      <td>2000-08-11</td>\n",
              "      <td>46.84</td>\n",
              "      <td>48.00</td>\n",
              "      <td>45.56</td>\n",
              "      <td>47.69</td>\n",
              "      <td>4251000</td>\n",
              "    </tr>\n",
              "    <tr>\n",
              "      <th>3</th>\n",
              "      <td>2000-08-14</td>\n",
              "      <td>47.59</td>\n",
              "      <td>47.69</td>\n",
              "      <td>46.31</td>\n",
              "      <td>47.06</td>\n",
              "      <td>2797500</td>\n",
              "    </tr>\n",
              "    <tr>\n",
              "      <th>4</th>\n",
              "      <td>2000-08-15</td>\n",
              "      <td>47.25</td>\n",
              "      <td>47.94</td>\n",
              "      <td>46.50</td>\n",
              "      <td>46.69</td>\n",
              "      <td>2039300</td>\n",
              "    </tr>\n",
              "    <tr>\n",
              "      <th>5</th>\n",
              "      <td>2000-08-16</td>\n",
              "      <td>46.88</td>\n",
              "      <td>49.00</td>\n",
              "      <td>46.81</td>\n",
              "      <td>48.50</td>\n",
              "      <td>2565600</td>\n",
              "    </tr>\n",
              "    <tr>\n",
              "      <th>6</th>\n",
              "      <td>2000-08-17</td>\n",
              "      <td>48.38</td>\n",
              "      <td>52.44</td>\n",
              "      <td>48.31</td>\n",
              "      <td>51.44</td>\n",
              "      <td>4837500</td>\n",
              "    </tr>\n",
              "    <tr>\n",
              "      <th>7</th>\n",
              "      <td>2000-08-18</td>\n",
              "      <td>51.38</td>\n",
              "      <td>51.81</td>\n",
              "      <td>49.88</td>\n",
              "      <td>50.00</td>\n",
              "      <td>3396000</td>\n",
              "    </tr>\n",
              "  </tbody>\n",
              "</table>\n",
              "</div>"
            ],
            "text/plain": [
              "   Unnamed: 0   open   high    low  close   volume\n",
              "0  2000-08-09  48.13  48.44  47.25  47.50  6779300\n",
              "1  2000-08-10  48.00  48.44  47.38  47.56  4494900\n",
              "2  2000-08-11  46.84  48.00  45.56  47.69  4251000\n",
              "3  2000-08-14  47.59  47.69  46.31  47.06  2797500\n",
              "4  2000-08-15  47.25  47.94  46.50  46.69  2039300\n",
              "5  2000-08-16  46.88  49.00  46.81  48.50  2565600\n",
              "6  2000-08-17  48.38  52.44  48.31  51.44  4837500\n",
              "7  2000-08-18  51.38  51.81  49.88  50.00  3396000"
            ]
          },
          "metadata": {
            "tags": []
          },
          "execution_count": 201
        }
      ]
    },
    {
      "cell_type": "code",
      "metadata": {
        "id": "1vm0qgSTH_Co",
        "colab_type": "code",
        "colab": {
          "base_uri": "https://localhost:8080/",
          "height": 204
        },
        "outputId": "716b7ef6-3d1c-498c-a8b5-6e1fe590a346"
      },
      "source": [
        "df.tail(5)"
      ],
      "execution_count": 202,
      "outputs": [
        {
          "output_type": "execute_result",
          "data": {
            "text/html": [
              "<div>\n",
              "<style scoped>\n",
              "    .dataframe tbody tr th:only-of-type {\n",
              "        vertical-align: middle;\n",
              "    }\n",
              "\n",
              "    .dataframe tbody tr th {\n",
              "        vertical-align: top;\n",
              "    }\n",
              "\n",
              "    .dataframe thead th {\n",
              "        text-align: right;\n",
              "    }\n",
              "</style>\n",
              "<table border=\"1\" class=\"dataframe\">\n",
              "  <thead>\n",
              "    <tr style=\"text-align: right;\">\n",
              "      <th></th>\n",
              "      <th>Unnamed: 0</th>\n",
              "      <th>open</th>\n",
              "      <th>high</th>\n",
              "      <th>low</th>\n",
              "      <th>close</th>\n",
              "      <th>volume</th>\n",
              "    </tr>\n",
              "  </thead>\n",
              "  <tbody>\n",
              "    <tr>\n",
              "      <th>5022</th>\n",
              "      <td>2020-07-28</td>\n",
              "      <td>377.470</td>\n",
              "      <td>378.1986</td>\n",
              "      <td>372.99</td>\n",
              "      <td>373.01</td>\n",
              "      <td>25906375</td>\n",
              "    </tr>\n",
              "    <tr>\n",
              "      <th>5023</th>\n",
              "      <td>2020-07-29</td>\n",
              "      <td>375.000</td>\n",
              "      <td>380.9200</td>\n",
              "      <td>374.85</td>\n",
              "      <td>380.16</td>\n",
              "      <td>22582314</td>\n",
              "    </tr>\n",
              "    <tr>\n",
              "      <th>5024</th>\n",
              "      <td>2020-07-30</td>\n",
              "      <td>376.750</td>\n",
              "      <td>385.1900</td>\n",
              "      <td>375.07</td>\n",
              "      <td>384.76</td>\n",
              "      <td>39532505</td>\n",
              "    </tr>\n",
              "    <tr>\n",
              "      <th>5025</th>\n",
              "      <td>2020-07-31</td>\n",
              "      <td>411.535</td>\n",
              "      <td>425.6600</td>\n",
              "      <td>403.30</td>\n",
              "      <td>425.04</td>\n",
              "      <td>93573867</td>\n",
              "    </tr>\n",
              "    <tr>\n",
              "      <th>5026</th>\n",
              "      <td>2020-08-03</td>\n",
              "      <td>432.800</td>\n",
              "      <td>446.5457</td>\n",
              "      <td>431.57</td>\n",
              "      <td>435.75</td>\n",
              "      <td>76817302</td>\n",
              "    </tr>\n",
              "  </tbody>\n",
              "</table>\n",
              "</div>"
            ],
            "text/plain": [
              "      Unnamed: 0     open      high     low   close    volume\n",
              "5022  2020-07-28  377.470  378.1986  372.99  373.01  25906375\n",
              "5023  2020-07-29  375.000  380.9200  374.85  380.16  22582314\n",
              "5024  2020-07-30  376.750  385.1900  375.07  384.76  39532505\n",
              "5025  2020-07-31  411.535  425.6600  403.30  425.04  93573867\n",
              "5026  2020-08-03  432.800  446.5457  431.57  435.75  76817302"
            ]
          },
          "metadata": {
            "tags": []
          },
          "execution_count": 202
        }
      ]
    },
    {
      "cell_type": "code",
      "metadata": {
        "id": "gz8y1MetIFRY",
        "colab_type": "code",
        "colab": {
          "base_uri": "https://localhost:8080/",
          "height": 204
        },
        "outputId": "ae7bd690-d744-4a48-af0c-24b1bebaa795"
      },
      "source": [
        "df.head()"
      ],
      "execution_count": 203,
      "outputs": [
        {
          "output_type": "execute_result",
          "data": {
            "text/html": [
              "<div>\n",
              "<style scoped>\n",
              "    .dataframe tbody tr th:only-of-type {\n",
              "        vertical-align: middle;\n",
              "    }\n",
              "\n",
              "    .dataframe tbody tr th {\n",
              "        vertical-align: top;\n",
              "    }\n",
              "\n",
              "    .dataframe thead th {\n",
              "        text-align: right;\n",
              "    }\n",
              "</style>\n",
              "<table border=\"1\" class=\"dataframe\">\n",
              "  <thead>\n",
              "    <tr style=\"text-align: right;\">\n",
              "      <th></th>\n",
              "      <th>Unnamed: 0</th>\n",
              "      <th>open</th>\n",
              "      <th>high</th>\n",
              "      <th>low</th>\n",
              "      <th>close</th>\n",
              "      <th>volume</th>\n",
              "    </tr>\n",
              "  </thead>\n",
              "  <tbody>\n",
              "    <tr>\n",
              "      <th>0</th>\n",
              "      <td>2000-08-09</td>\n",
              "      <td>48.13</td>\n",
              "      <td>48.44</td>\n",
              "      <td>47.25</td>\n",
              "      <td>47.50</td>\n",
              "      <td>6779300</td>\n",
              "    </tr>\n",
              "    <tr>\n",
              "      <th>1</th>\n",
              "      <td>2000-08-10</td>\n",
              "      <td>48.00</td>\n",
              "      <td>48.44</td>\n",
              "      <td>47.38</td>\n",
              "      <td>47.56</td>\n",
              "      <td>4494900</td>\n",
              "    </tr>\n",
              "    <tr>\n",
              "      <th>2</th>\n",
              "      <td>2000-08-11</td>\n",
              "      <td>46.84</td>\n",
              "      <td>48.00</td>\n",
              "      <td>45.56</td>\n",
              "      <td>47.69</td>\n",
              "      <td>4251000</td>\n",
              "    </tr>\n",
              "    <tr>\n",
              "      <th>3</th>\n",
              "      <td>2000-08-14</td>\n",
              "      <td>47.59</td>\n",
              "      <td>47.69</td>\n",
              "      <td>46.31</td>\n",
              "      <td>47.06</td>\n",
              "      <td>2797500</td>\n",
              "    </tr>\n",
              "    <tr>\n",
              "      <th>4</th>\n",
              "      <td>2000-08-15</td>\n",
              "      <td>47.25</td>\n",
              "      <td>47.94</td>\n",
              "      <td>46.50</td>\n",
              "      <td>46.69</td>\n",
              "      <td>2039300</td>\n",
              "    </tr>\n",
              "  </tbody>\n",
              "</table>\n",
              "</div>"
            ],
            "text/plain": [
              "   Unnamed: 0   open   high    low  close   volume\n",
              "0  2000-08-09  48.13  48.44  47.25  47.50  6779300\n",
              "1  2000-08-10  48.00  48.44  47.38  47.56  4494900\n",
              "2  2000-08-11  46.84  48.00  45.56  47.69  4251000\n",
              "3  2000-08-14  47.59  47.69  46.31  47.06  2797500\n",
              "4  2000-08-15  47.25  47.94  46.50  46.69  2039300"
            ]
          },
          "metadata": {
            "tags": []
          },
          "execution_count": 203
        }
      ]
    },
    {
      "cell_type": "code",
      "metadata": {
        "id": "9EKgQavuL8mx",
        "colab_type": "code",
        "colab": {
          "base_uri": "https://localhost:8080/",
          "height": 34
        },
        "outputId": "abc36259-186f-41ed-b931-a5bab1835081"
      },
      "source": [
        "# Get the number of training days\n",
        "df.shape"
      ],
      "execution_count": 204,
      "outputs": [
        {
          "output_type": "execute_result",
          "data": {
            "text/plain": [
              "(5027, 6)"
            ]
          },
          "metadata": {
            "tags": []
          },
          "execution_count": 204
        }
      ]
    },
    {
      "cell_type": "code",
      "metadata": {
        "id": "TOvjbbKuMKrp",
        "colab_type": "code",
        "colab": {}
      },
      "source": [
        "import matplotlib.pyplot as plt\n",
        "plt.style.use('bmh')"
      ],
      "execution_count": 205,
      "outputs": []
    },
    {
      "cell_type": "code",
      "metadata": {
        "id": "zNBFicD_MBwB",
        "colab_type": "code",
        "colab": {
          "base_uri": "https://localhost:8080/",
          "height": 350
        },
        "outputId": "27ed573a-5e5c-4612-860f-5ab2c5b6782f"
      },
      "source": [
        "# Visualise the close price data\n",
        "plt.figure(figsize=(10,5))\n",
        "plt.title('Alpha ventage')\n",
        "plt.xlabel('Days')\n",
        "plt.ylabel('close')\n",
        "plt.plot(df['close'])\n",
        "plt.show()"
      ],
      "execution_count": 206,
      "outputs": [
        {
          "output_type": "display_data",
          "data": {
            "image/png": "[encoded data removed]",
            "text/plain": [
              "<Figure size 720x360 with 1 Axes>"
            ]
          },
          "metadata": {
            "tags": [],
            "needs_background": "light"
          }
        }
      ]
    },
    {
      "cell_type": "code",
      "metadata": {
        "id": "MduAdokiSk8v",
        "colab_type": "code",
        "colab": {
          "base_uri": "https://localhost:8080/",
          "height": 350
        },
        "outputId": "3c49ed79-f72f-4194-bb8f-1f57e2c5266a"
      },
      "source": [
        "# Visualise the high price data\n",
        "plt.figure(figsize=(10,5))\n",
        "plt.title('Alpha ventage')\n",
        "plt.xlabel('Days')\n",
        "plt.ylabel('high')\n",
        "plt.plot(df['high'])\n",
        "plt.show()"
      ],
      "execution_count": 207,
      "outputs": [
        {
          "output_type": "display_data",
          "data": {
            "image/png": "[encoded data removed]",
            "text/plain": [
              "<Figure size 720x360 with 1 Axes>"
            ]
          },
          "metadata": {
            "tags": [],
            "needs_background": "light"
          }
        }
      ]
    },
    {
      "cell_type": "code",
      "metadata": {
        "id": "lvWo7Zf9SzSD",
        "colab_type": "code",
        "colab": {
          "base_uri": "https://localhost:8080/",
          "height": 350
        },
        "outputId": "bd4b688c-82b7-452e-f893-e74c94712464"
      },
      "source": [
        "# Visualise the low price data\n",
        "plt.figure(figsize=(10,5))\n",
        "plt.title('Alpha ventage')\n",
        "plt.xlabel('Days')\n",
        "plt.ylabel('low')\n",
        "plt.plot(df['low'])\n",
        "plt.show()"
      ],
      "execution_count": 208,
      "outputs": [
        {
          "output_type": "display_data",
          "data": {
            "image/png": "[encoded data removed]",
            "text/plain": [
              "<Figure size 720x360 with 1 Axes>"
            ]
          },
          "metadata": {
            "tags": [],
            "needs_background": "light"
          }
        }
      ]
    },
    {
      "cell_type": "code",
      "metadata": {
        "id": "0467hx66S6cK",
        "colab_type": "code",
        "colab": {
          "base_uri": "https://localhost:8080/",
          "height": 350
        },
        "outputId": "0847494d-eefb-4c58-b7f8-927eb44028ad"
      },
      "source": [
        "# Visualise the volume  data\n",
        "plt.figure(figsize=(10,5))\n",
        "plt.title('Alpha ventage')\n",
        "plt.xlabel('Days')\n",
        "plt.ylabel('volume')\n",
        "plt.plot(df['volume'])\n",
        "plt.show()"
      ],
      "execution_count": 209,
      "outputs": [
        {
          "output_type": "display_data",
          "data": {
            "image/png": "[encoded data removed]",
            "text/plain": [
              "<Figure size 720x360 with 1 Axes>"
            ]
          },
          "metadata": {
            "tags": [],
            "needs_background": "light"
          }
        }
      ]
    },
    {
      "cell_type": "code",
      "metadata": {
        "id": "znhQbiiDTB0Z",
        "colab_type": "code",
        "colab": {
          "base_uri": "https://localhost:8080/",
          "height": 350
        },
        "outputId": "b988022b-19a9-4ddb-bf64-4e2bc3b8c37a"
      },
      "source": [
        "# Visualise the price data\n",
        "plt.figure(figsize=(10,5))\n",
        "plt.title('Alpha ventage')\n",
        "plt.xlabel('Days')\n",
        "plt.ylabel('units')\n",
        "plt.plot(df[['close' , 'high' , 'low']])\n",
        "plt.show()"
      ],
      "execution_count": 210,
      "outputs": [
        {
          "output_type": "display_data",
          "data": {
            "image/png": "[encoded data removed]",
            "text/plain": [
              "<Figure size 720x360 with 1 Axes>"
            ]
          },
          "metadata": {
            "tags": [],
            "needs_background": "light"
          }
        }
      ]
    },
    {
      "cell_type": "code",
      "metadata": {
        "id": "8TEKTu6mMQJf",
        "colab_type": "code",
        "colab": {
          "base_uri": "https://localhost:8080/",
          "height": 359
        },
        "outputId": "74241b3b-1de7-4931-bc36-37c06cb37903"
      },
      "source": [
        "# Get the close price\n",
        "df = df[['close']]\n",
        "df.head(10)"
      ],
      "execution_count": 211,
      "outputs": [
        {
          "output_type": "execute_result",
          "data": {
            "text/html": [
              "<div>\n",
              "<style scoped>\n",
              "    .dataframe tbody tr th:only-of-type {\n",
              "        vertical-align: middle;\n",
              "    }\n",
              "\n",
              "    .dataframe tbody tr th {\n",
              "        vertical-align: top;\n",
              "    }\n",
              "\n",
              "    .dataframe thead th {\n",
              "        text-align: right;\n",
              "    }\n",
              "</style>\n",
              "<table border=\"1\" class=\"dataframe\">\n",
              "  <thead>\n",
              "    <tr style=\"text-align: right;\">\n",
              "      <th></th>\n",
              "      <th>close</th>\n",
              "    </tr>\n",
              "  </thead>\n",
              "  <tbody>\n",
              "    <tr>\n",
              "      <th>0</th>\n",
              "      <td>47.50</td>\n",
              "    </tr>\n",
              "    <tr>\n",
              "      <th>1</th>\n",
              "      <td>47.56</td>\n",
              "    </tr>\n",
              "    <tr>\n",
              "      <th>2</th>\n",
              "      <td>47.69</td>\n",
              "    </tr>\n",
              "    <tr>\n",
              "      <th>3</th>\n",
              "      <td>47.06</td>\n",
              "    </tr>\n",
              "    <tr>\n",
              "      <th>4</th>\n",
              "      <td>46.69</td>\n",
              "    </tr>\n",
              "    <tr>\n",
              "      <th>5</th>\n",
              "      <td>48.50</td>\n",
              "    </tr>\n",
              "    <tr>\n",
              "      <th>6</th>\n",
              "      <td>51.44</td>\n",
              "    </tr>\n",
              "    <tr>\n",
              "      <th>7</th>\n",
              "      <td>50.00</td>\n",
              "    </tr>\n",
              "    <tr>\n",
              "      <th>8</th>\n",
              "      <td>50.50</td>\n",
              "    </tr>\n",
              "    <tr>\n",
              "      <th>9</th>\n",
              "      <td>51.69</td>\n",
              "    </tr>\n",
              "  </tbody>\n",
              "</table>\n",
              "</div>"
            ],
            "text/plain": [
              "   close\n",
              "0  47.50\n",
              "1  47.56\n",
              "2  47.69\n",
              "3  47.06\n",
              "4  46.69\n",
              "5  48.50\n",
              "6  51.44\n",
              "7  50.00\n",
              "8  50.50\n",
              "9  51.69"
            ]
          },
          "metadata": {
            "tags": []
          },
          "execution_count": 211
        }
      ]
    },
    {
      "cell_type": "code",
      "metadata": {
        "id": "XCTxI1fTMbe5",
        "colab_type": "code",
        "colab": {
          "base_uri": "https://localhost:8080/",
          "height": 204
        },
        "outputId": "9dda2d52-11b4-40d2-9ea8-cbade179015e"
      },
      "source": [
        "# Create a variable to predict 'x' days out into the future\n",
        "future_days = 3\n",
        "# Create a new column (target) shifted 'x' units/days up\n",
        "df['Prediction'] = df[['close']].shift(-future_days)\n",
        "df.tail(5)"
      ],
      "execution_count": 212,
      "outputs": [
        {
          "output_type": "execute_result",
          "data": {
            "text/html": [
              "<div>\n",
              "<style scoped>\n",
              "    .dataframe tbody tr th:only-of-type {\n",
              "        vertical-align: middle;\n",
              "    }\n",
              "\n",
              "    .dataframe tbody tr th {\n",
              "        vertical-align: top;\n",
              "    }\n",
              "\n",
              "    .dataframe thead th {\n",
              "        text-align: right;\n",
              "    }\n",
              "</style>\n",
              "<table border=\"1\" class=\"dataframe\">\n",
              "  <thead>\n",
              "    <tr style=\"text-align: right;\">\n",
              "      <th></th>\n",
              "      <th>close</th>\n",
              "      <th>Prediction</th>\n",
              "    </tr>\n",
              "  </thead>\n",
              "  <tbody>\n",
              "    <tr>\n",
              "      <th>5022</th>\n",
              "      <td>373.01</td>\n",
              "      <td>425.04</td>\n",
              "    </tr>\n",
              "    <tr>\n",
              "      <th>5023</th>\n",
              "      <td>380.16</td>\n",
              "      <td>435.75</td>\n",
              "    </tr>\n",
              "    <tr>\n",
              "      <th>5024</th>\n",
              "      <td>384.76</td>\n",
              "      <td>NaN</td>\n",
              "    </tr>\n",
              "    <tr>\n",
              "      <th>5025</th>\n",
              "      <td>425.04</td>\n",
              "      <td>NaN</td>\n",
              "    </tr>\n",
              "    <tr>\n",
              "      <th>5026</th>\n",
              "      <td>435.75</td>\n",
              "      <td>NaN</td>\n",
              "    </tr>\n",
              "  </tbody>\n",
              "</table>\n",
              "</div>"
            ],
            "text/plain": [
              "       close  Prediction\n",
              "5022  373.01      425.04\n",
              "5023  380.16      435.75\n",
              "5024  384.76         NaN\n",
              "5025  425.04         NaN\n",
              "5026  435.75         NaN"
            ]
          },
          "metadata": {
            "tags": []
          },
          "execution_count": 212
        }
      ]
    },
    {
      "cell_type": "code",
      "metadata": {
        "id": "33vztd3AMq-w",
        "colab_type": "code",
        "colab": {}
      },
      "source": [
        "import numpy as np"
      ],
      "execution_count": 213,
      "outputs": []
    },
    {
      "cell_type": "code",
      "metadata": {
        "id": "GRShhLPkMh_2",
        "colab_type": "code",
        "colab": {
          "base_uri": "https://localhost:8080/",
          "height": 136
        },
        "outputId": "2ab1c1ed-ee4b-44a6-b654-7f4bad941485"
      },
      "source": [
        "# Create the feature data set (x) and convert it to a numpy array and remove the last 'x' rows/days\n",
        "X = np.array(df.drop(['Prediction'], 1))[:-future_days]\n",
        "print(X)"
      ],
      "execution_count": 214,
      "outputs": [
        {
          "output_type": "stream",
          "text": [
            "[[ 47.5 ]\n",
            " [ 47.56]\n",
            " [ 47.69]\n",
            " ...\n",
            " [379.24]\n",
            " [373.01]\n",
            " [380.16]]\n"
          ],
          "name": "stdout"
        }
      ]
    },
    {
      "cell_type": "code",
      "metadata": {
        "id": "ZOVN9g8iMt5B",
        "colab_type": "code",
        "colab": {
          "base_uri": "https://localhost:8080/",
          "height": 34
        },
        "outputId": "e8f1dd35-329a-4375-f77a-1886d8d04c3c"
      },
      "source": [
        "# Create the target data set (y) and convert it to numpy array and get all the target values except the last 'x' rows \n",
        "y = np.array(df['Prediction'])[:-future_days]\n",
        "print(y)"
      ],
      "execution_count": 215,
      "outputs": [
        {
          "output_type": "stream",
          "text": [
            "[ 47.06  46.69  48.5  ... 384.76 425.04 435.75]\n"
          ],
          "name": "stdout"
        }
      ]
    },
    {
      "cell_type": "code",
      "metadata": {
        "id": "GRF5iUirNnQB",
        "colab_type": "code",
        "colab": {}
      },
      "source": [
        "from sklearn.model_selection import train_test_split"
      ],
      "execution_count": 216,
      "outputs": []
    },
    {
      "cell_type": "code",
      "metadata": {
        "id": "cKf-iF5lNeYX",
        "colab_type": "code",
        "colab": {}
      },
      "source": [
        "# split the data into 75% training and 25% testing\n",
        "X_train, X_test, y_train, y_test = train_test_split(X,y, test_size = 0.25)"
      ],
      "execution_count": 217,
      "outputs": []
    },
    {
      "cell_type": "code",
      "metadata": {
        "id": "tg0f9CfTNp9C",
        "colab_type": "code",
        "colab": {}
      },
      "source": [
        "from sklearn.tree import DecisionTreeRegressor\n",
        "from sklearn.linear_model import LinearRegression\n"
      ],
      "execution_count": 218,
      "outputs": []
    },
    {
      "cell_type": "code",
      "metadata": {
        "id": "St5hVanbN0CZ",
        "colab_type": "code",
        "colab": {}
      },
      "source": [
        "# Create the models\n",
        "# Create Desion tree regressor model\n",
        "tree = DecisionTreeRegressor().fit(X_train, y_train)\n",
        "# Create the linear regression model\n",
        "lr = LinearRegression().fit(X_train, y_train)\n"
      ],
      "execution_count": 219,
      "outputs": []
    },
    {
      "cell_type": "code",
      "metadata": {
        "id": "pkvZWFScOAYa",
        "colab_type": "code",
        "colab": {
          "base_uri": "https://localhost:8080/",
          "height": 68
        },
        "outputId": "eabcb16e-af99-4695-f2b5-7258603ff4aa"
      },
      "source": [
        "# Get last rows of future data set\n",
        "X_future = df.drop(['Prediction'], 1)[:-future_days]\n",
        "X_future = X_future.tail(future_days)\n",
        "X_future = np.array(X_future)\n",
        "X_future"
      ],
      "execution_count": 220,
      "outputs": [
        {
          "output_type": "execute_result",
          "data": {
            "text/plain": [
              "array([[379.24],\n",
              "       [373.01],\n",
              "       [380.16]])"
            ]
          },
          "metadata": {
            "tags": []
          },
          "execution_count": 220
        }
      ]
    },
    {
      "cell_type": "code",
      "metadata": {
        "id": "cnntUD9lOGfH",
        "colab_type": "code",
        "colab": {
          "base_uri": "https://localhost:8080/",
          "height": 68
        },
        "outputId": "5c6072ad-95b5-4881-fe21-1cd23e522193"
      },
      "source": [
        "# Show the model tree prediction\n",
        "tree_prediction = tree.predict(X_future)\n",
        "print(tree_prediction)\n",
        "print()\n",
        "# Show the model linear regression prediction\n",
        "lr_prediction = lr.predict(X_future)\n",
        "print(lr_prediction)"
      ],
      "execution_count": 221,
      "outputs": [
        {
          "output_type": "stream",
          "text": [
            "[384.76 425.04 435.75]\n",
            "\n",
            "[378.1690043  371.97581006 379.0835691 ]\n"
          ],
          "name": "stdout"
        }
      ]
    },
    {
      "cell_type": "code",
      "metadata": {
        "id": "HbYJ1cX4OJGI",
        "colab_type": "code",
        "colab": {
          "base_uri": "https://localhost:8080/",
          "height": 452
        },
        "outputId": "17216fc0-a6b4-4ce0-d10c-77a7ae0dba9e"
      },
      "source": [
        "# Visulize the data\n",
        "predictions = tree_prediction\n",
        "valid = df[X.shape[0]:]\n",
        "valid['Prediction'] = predictions\n",
        "plt.figure(figsize=(10,5))\n",
        "plt.title('Decision Tree Model')\n",
        "plt.xlabel('Days')\n",
        "plt.ylabel('close price')\n",
        "plt.plot(df['close'])\n",
        "plt.plot(valid[['close' , 'Prediction']])\n",
        "plt.legend(['Orig', 'Val' , 'Pred'])\n",
        "plt.show()"
      ],
      "execution_count": 251,
      "outputs": [
        {
          "output_type": "stream",
          "text": [
            "/usr/local/lib/python3.6/dist-packages/ipykernel_launcher.py:4: SettingWithCopyWarning: \n",
            "A value is trying to be set on a copy of a slice from a DataFrame.\n",
            "Try using .loc[row_indexer,col_indexer] = value instead\n",
            "\n",
            "See the caveats in the documentation: https://pandas.pydata.org/pandas-docs/stable/user_guide/indexing.html#returning-a-view-versus-a-copy\n",
            "  after removing the cwd from sys.path.\n"
          ],
          "name": "stderr"
        },
        {
          "output_type": "display_data",
          "data": {
            "image/png": "[encoded data removed]",
            "text/plain": [
              "<Figure size 720x360 with 1 Axes>"
            ]
          },
          "metadata": {
            "tags": [],
            "needs_background": "light"
          }
        }
      ]
    },
    {
      "cell_type": "code",
      "metadata": {
        "id": "kpR4jiE3OUrT",
        "colab_type": "code",
        "colab": {
          "base_uri": "https://localhost:8080/",
          "height": 452
        },
        "outputId": "cb888b52-0569-4086-f2e1-5f847f182138"
      },
      "source": [
        "# Visulize the data\n",
        "predictions = lr_prediction\n",
        "valid = df[X.shape[0]:]\n",
        "valid['Prediction'] = predictions\n",
        "plt.figure(figsize=(10,5))\n",
        "plt.title('Linear Regression Model')\n",
        "plt.xlabel('Days')\n",
        "plt.ylabel('close price')\n",
        "plt.plot(df['close'])\n",
        "plt.plot(valid[['close' , 'Prediction']])\n",
        "plt.legend(['Orig', 'Val' , 'Pred'])\n",
        "plt.show()"
      ],
      "execution_count": 252,
      "outputs": [
        {
          "output_type": "stream",
          "text": [
            "/usr/local/lib/python3.6/dist-packages/ipykernel_launcher.py:4: SettingWithCopyWarning: \n",
            "A value is trying to be set on a copy of a slice from a DataFrame.\n",
            "Try using .loc[row_indexer,col_indexer] = value instead\n",
            "\n",
            "See the caveats in the documentation: https://pandas.pydata.org/pandas-docs/stable/user_guide/indexing.html#returning-a-view-versus-a-copy\n",
            "  after removing the cwd from sys.path.\n"
          ],
          "name": "stderr"
        },
        {
          "output_type": "display_data",
          "data": {
            "image/png": "[encoded data removed]",
            "text/plain": [
              "<Figure size 720x360 with 1 Axes>"
            ]
          },
          "metadata": {
            "tags": [],
            "needs_background": "light"
          }
        }
      ]
    },
    {
      "cell_type": "code",
      "metadata": {
        "id": "_ts6i01xujPr",
        "colab_type": "code",
        "colab": {}
      },
      "source": [
        "# Stock Price Prediction Using LSTM"
      ],
      "execution_count": null,
      "outputs": []
    },
    {
      "cell_type": "code",
      "metadata": {
        "id": "vcKTsSSjuq86",
        "colab_type": "code",
        "colab": {}
      },
      "source": [
        "### Data Collection\n",
        "import pandas_datareader as pdr\n",
        "key=\"\"             ##Get api-key from pandas_datareader for alpha vantage dataset"
      ],
      "execution_count": 225,
      "outputs": []
    },
    {
      "cell_type": "code",
      "metadata": {
        "id": "iDAOeWQCvAjb",
        "colab_type": "code",
        "colab": {}
      },
      "source": [
        "df = pdr.get_data_alphavantage('AAPL', api_key='')  ## Use api-key also we can directly upload CSV"
      ],
      "execution_count": 226,
      "outputs": []
    },
    {
      "cell_type": "markdown",
      "metadata": {
        "id": "fCxVA6npwC5y",
        "colab_type": "text"
      },
      "source": [
        ""
      ]
    },
    {
      "cell_type": "code",
      "metadata": {
        "id": "yOHBqqMv8PLp",
        "colab_type": "code",
        "colab": {}
      },
      "source": [
        "df.to_csv('AAPL.csv')"
      ],
      "execution_count": 227,
      "outputs": []
    },
    {
      "cell_type": "code",
      "metadata": {
        "id": "o3QmLK5f8WDl",
        "colab_type": "code",
        "colab": {}
      },
      "source": [
        "import pandas as pd"
      ],
      "execution_count": 228,
      "outputs": []
    },
    {
      "cell_type": "code",
      "metadata": {
        "id": "MMnCOAF28Y53",
        "colab_type": "code",
        "colab": {}
      },
      "source": [
        "df=pd.read_csv('AAPL.csv')"
      ],
      "execution_count": 229,
      "outputs": []
    },
    {
      "cell_type": "code",
      "metadata": {
        "id": "KTzguZ_v8d36",
        "colab_type": "code",
        "colab": {
          "base_uri": "https://localhost:8080/",
          "height": 297
        },
        "outputId": "2ca6ed3e-593c-4d5a-b437-b1dd38806632"
      },
      "source": [
        "df.head(8)"
      ],
      "execution_count": 230,
      "outputs": [
        {
          "output_type": "execute_result",
          "data": {
            "text/html": [
              "<div>\n",
              "<style scoped>\n",
              "    .dataframe tbody tr th:only-of-type {\n",
              "        vertical-align: middle;\n",
              "    }\n",
              "\n",
              "    .dataframe tbody tr th {\n",
              "        vertical-align: top;\n",
              "    }\n",
              "\n",
              "    .dataframe thead th {\n",
              "        text-align: right;\n",
              "    }\n",
              "</style>\n",
              "<table border=\"1\" class=\"dataframe\">\n",
              "  <thead>\n",
              "    <tr style=\"text-align: right;\">\n",
              "      <th></th>\n",
              "      <th>Unnamed: 0</th>\n",
              "      <th>open</th>\n",
              "      <th>high</th>\n",
              "      <th>low</th>\n",
              "      <th>close</th>\n",
              "      <th>volume</th>\n",
              "    </tr>\n",
              "  </thead>\n",
              "  <tbody>\n",
              "    <tr>\n",
              "      <th>0</th>\n",
              "      <td>2000-08-09</td>\n",
              "      <td>48.13</td>\n",
              "      <td>48.44</td>\n",
              "      <td>47.25</td>\n",
              "      <td>47.50</td>\n",
              "      <td>6779300</td>\n",
              "    </tr>\n",
              "    <tr>\n",
              "      <th>1</th>\n",
              "      <td>2000-08-10</td>\n",
              "      <td>48.00</td>\n",
              "      <td>48.44</td>\n",
              "      <td>47.38</td>\n",
              "      <td>47.56</td>\n",
              "      <td>4494900</td>\n",
              "    </tr>\n",
              "    <tr>\n",
              "      <th>2</th>\n",
              "      <td>2000-08-11</td>\n",
              "      <td>46.84</td>\n",
              "      <td>48.00</td>\n",
              "      <td>45.56</td>\n",
              "      <td>47.69</td>\n",
              "      <td>4251000</td>\n",
              "    </tr>\n",
              "    <tr>\n",
              "      <th>3</th>\n",
              "      <td>2000-08-14</td>\n",
              "      <td>47.59</td>\n",
              "      <td>47.69</td>\n",
              "      <td>46.31</td>\n",
              "      <td>47.06</td>\n",
              "      <td>2797500</td>\n",
              "    </tr>\n",
              "    <tr>\n",
              "      <th>4</th>\n",
              "      <td>2000-08-15</td>\n",
              "      <td>47.25</td>\n",
              "      <td>47.94</td>\n",
              "      <td>46.50</td>\n",
              "      <td>46.69</td>\n",
              "      <td>2039300</td>\n",
              "    </tr>\n",
              "    <tr>\n",
              "      <th>5</th>\n",
              "      <td>2000-08-16</td>\n",
              "      <td>46.88</td>\n",
              "      <td>49.00</td>\n",
              "      <td>46.81</td>\n",
              "      <td>48.50</td>\n",
              "      <td>2565600</td>\n",
              "    </tr>\n",
              "    <tr>\n",
              "      <th>6</th>\n",
              "      <td>2000-08-17</td>\n",
              "      <td>48.38</td>\n",
              "      <td>52.44</td>\n",
              "      <td>48.31</td>\n",
              "      <td>51.44</td>\n",
              "      <td>4837500</td>\n",
              "    </tr>\n",
              "    <tr>\n",
              "      <th>7</th>\n",
              "      <td>2000-08-18</td>\n",
              "      <td>51.38</td>\n",
              "      <td>51.81</td>\n",
              "      <td>49.88</td>\n",
              "      <td>50.00</td>\n",
              "      <td>3396000</td>\n",
              "    </tr>\n",
              "  </tbody>\n",
              "</table>\n",
              "</div>"
            ],
            "text/plain": [
              "   Unnamed: 0   open   high    low  close   volume\n",
              "0  2000-08-09  48.13  48.44  47.25  47.50  6779300\n",
              "1  2000-08-10  48.00  48.44  47.38  47.56  4494900\n",
              "2  2000-08-11  46.84  48.00  45.56  47.69  4251000\n",
              "3  2000-08-14  47.59  47.69  46.31  47.06  2797500\n",
              "4  2000-08-15  47.25  47.94  46.50  46.69  2039300\n",
              "5  2000-08-16  46.88  49.00  46.81  48.50  2565600\n",
              "6  2000-08-17  48.38  52.44  48.31  51.44  4837500\n",
              "7  2000-08-18  51.38  51.81  49.88  50.00  3396000"
            ]
          },
          "metadata": {
            "tags": []
          },
          "execution_count": 230
        }
      ]
    },
    {
      "cell_type": "code",
      "metadata": {
        "id": "9sFJ99DT8jfK",
        "colab_type": "code",
        "colab": {
          "base_uri": "https://localhost:8080/",
          "height": 204
        },
        "outputId": "e38d2bb2-0951-4e28-b656-5c75b7b8a6d0"
      },
      "source": [
        "df.tail(5)"
      ],
      "execution_count": 231,
      "outputs": [
        {
          "output_type": "execute_result",
          "data": {
            "text/html": [
              "<div>\n",
              "<style scoped>\n",
              "    .dataframe tbody tr th:only-of-type {\n",
              "        vertical-align: middle;\n",
              "    }\n",
              "\n",
              "    .dataframe tbody tr th {\n",
              "        vertical-align: top;\n",
              "    }\n",
              "\n",
              "    .dataframe thead th {\n",
              "        text-align: right;\n",
              "    }\n",
              "</style>\n",
              "<table border=\"1\" class=\"dataframe\">\n",
              "  <thead>\n",
              "    <tr style=\"text-align: right;\">\n",
              "      <th></th>\n",
              "      <th>Unnamed: 0</th>\n",
              "      <th>open</th>\n",
              "      <th>high</th>\n",
              "      <th>low</th>\n",
              "      <th>close</th>\n",
              "      <th>volume</th>\n",
              "    </tr>\n",
              "  </thead>\n",
              "  <tbody>\n",
              "    <tr>\n",
              "      <th>5022</th>\n",
              "      <td>2020-07-28</td>\n",
              "      <td>377.470</td>\n",
              "      <td>378.1986</td>\n",
              "      <td>372.99</td>\n",
              "      <td>373.01</td>\n",
              "      <td>25906375</td>\n",
              "    </tr>\n",
              "    <tr>\n",
              "      <th>5023</th>\n",
              "      <td>2020-07-29</td>\n",
              "      <td>375.000</td>\n",
              "      <td>380.9200</td>\n",
              "      <td>374.85</td>\n",
              "      <td>380.16</td>\n",
              "      <td>22582314</td>\n",
              "    </tr>\n",
              "    <tr>\n",
              "      <th>5024</th>\n",
              "      <td>2020-07-30</td>\n",
              "      <td>376.750</td>\n",
              "      <td>385.1900</td>\n",
              "      <td>375.07</td>\n",
              "      <td>384.76</td>\n",
              "      <td>39532505</td>\n",
              "    </tr>\n",
              "    <tr>\n",
              "      <th>5025</th>\n",
              "      <td>2020-07-31</td>\n",
              "      <td>411.535</td>\n",
              "      <td>425.6600</td>\n",
              "      <td>403.30</td>\n",
              "      <td>425.04</td>\n",
              "      <td>93573867</td>\n",
              "    </tr>\n",
              "    <tr>\n",
              "      <th>5026</th>\n",
              "      <td>2020-08-03</td>\n",
              "      <td>432.800</td>\n",
              "      <td>446.5457</td>\n",
              "      <td>431.57</td>\n",
              "      <td>435.75</td>\n",
              "      <td>76817302</td>\n",
              "    </tr>\n",
              "  </tbody>\n",
              "</table>\n",
              "</div>"
            ],
            "text/plain": [
              "      Unnamed: 0     open      high     low   close    volume\n",
              "5022  2020-07-28  377.470  378.1986  372.99  373.01  25906375\n",
              "5023  2020-07-29  375.000  380.9200  374.85  380.16  22582314\n",
              "5024  2020-07-30  376.750  385.1900  375.07  384.76  39532505\n",
              "5025  2020-07-31  411.535  425.6600  403.30  425.04  93573867\n",
              "5026  2020-08-03  432.800  446.5457  431.57  435.75  76817302"
            ]
          },
          "metadata": {
            "tags": []
          },
          "execution_count": 231
        }
      ]
    },
    {
      "cell_type": "code",
      "metadata": {
        "id": "bnnHcNZc8qN1",
        "colab_type": "code",
        "colab": {}
      },
      "source": [
        "df1=df.reset_index()['close']"
      ],
      "execution_count": 232,
      "outputs": []
    },
    {
      "cell_type": "code",
      "metadata": {
        "id": "O6CADOu48wIW",
        "colab_type": "code",
        "colab": {
          "base_uri": "https://localhost:8080/",
          "height": 221
        },
        "outputId": "c705d459-2f11-42a6-e93f-ee1b34e96832"
      },
      "source": [
        "df1"
      ],
      "execution_count": null,
      "outputs": [
        {
          "output_type": "execute_result",
          "data": {
            "text/plain": [
              "0        47.50\n",
              "1        47.56\n",
              "2        47.69\n",
              "3        47.06\n",
              "4        46.69\n",
              "         ...  \n",
              "5022    373.01\n",
              "5023    380.16\n",
              "5024    384.76\n",
              "5025    425.04\n",
              "5026    435.75\n",
              "Name: close, Length: 5027, dtype: float64"
            ]
          },
          "metadata": {
            "tags": []
          },
          "execution_count": 89
        }
      ]
    },
    {
      "cell_type": "code",
      "metadata": {
        "id": "jBTs6k8m8zzr",
        "colab_type": "code",
        "colab": {
          "base_uri": "https://localhost:8080/",
          "height": 333
        },
        "outputId": "e3c46b3a-cfcf-453e-f34d-269056e4da36"
      },
      "source": [
        "import matplotlib.pyplot as plt\n",
        "plt.figure(figsize=(10,5))\n",
        "plt.plot(df1)"
      ],
      "execution_count": 234,
      "outputs": [
        {
          "output_type": "execute_result",
          "data": {
            "text/plain": [
              "[<matplotlib.lines.Line2D at 0x7f48d009c5f8>]"
            ]
          },
          "metadata": {
            "tags": []
          },
          "execution_count": 234
        },
        {
          "output_type": "display_data",
          "data": {
            "image/png": "[encoded data removed]",
            "text/plain": [
              "<Figure size 720x360 with 1 Axes>"
            ]
          },
          "metadata": {
            "tags": [],
            "needs_background": "light"
          }
        }
      ]
    },
    {
      "cell_type": "code",
      "metadata": {
        "id": "6HBw7Fno87dW",
        "colab_type": "code",
        "colab": {}
      },
      "source": [
        "### LSTM are sensitive to the scale of the data. so we apply MinMax scaler\n",
        "import numpy as np"
      ],
      "execution_count": 235,
      "outputs": []
    },
    {
      "cell_type": "code",
      "metadata": {
        "id": "mq_nUP4e9HgW",
        "colab_type": "code",
        "colab": {}
      },
      "source": [
        "from sklearn.preprocessing import MinMaxScaler\n",
        "scaler=MinMaxScaler(feature_range=(0,1))\n",
        "df1=scaler.fit_transform(np.array(df1).reshape(-1,1))"
      ],
      "execution_count": 236,
      "outputs": []
    },
    {
      "cell_type": "code",
      "metadata": {
        "id": "TgrZ1A_Q9Jz1",
        "colab_type": "code",
        "colab": {
          "base_uri": "https://localhost:8080/",
          "height": 136
        },
        "outputId": "ebe5560c-d327-484b-f6f0-e6975b28b1fc"
      },
      "source": [
        "print(df1)"
      ],
      "execution_count": 237,
      "outputs": [
        {
          "output_type": "stream",
          "text": [
            "[[0.04989985]\n",
            " [0.04998694]\n",
            " [0.05017562]\n",
            " ...\n",
            " [0.53940608]\n",
            " [0.59786931]\n",
            " [0.61341403]]\n"
          ],
          "name": "stdout"
        }
      ]
    },
    {
      "cell_type": "code",
      "metadata": {
        "id": "rdEVlZWt9PHl",
        "colab_type": "code",
        "colab": {}
      },
      "source": [
        "##splitting dataset into train and test split\n",
        "training_size=int(len(df1)*0.8)\n",
        "test_size=len(df1)-training_size\n",
        "train_data,test_data=df1[0:training_size,:],df1[training_size:len(df1),:1]"
      ],
      "execution_count": 238,
      "outputs": []
    },
    {
      "cell_type": "code",
      "metadata": {
        "id": "M3HBXGCj9U6E",
        "colab_type": "code",
        "colab": {
          "base_uri": "https://localhost:8080/",
          "height": 34
        },
        "outputId": "25afc721-dcdb-4989-85c6-bd2464a70168"
      },
      "source": [
        "training_size,test_size"
      ],
      "execution_count": 239,
      "outputs": [
        {
          "output_type": "execute_result",
          "data": {
            "text/plain": [
              "(4021, 1006)"
            ]
          },
          "metadata": {
            "tags": []
          },
          "execution_count": 239
        }
      ]
    },
    {
      "cell_type": "code",
      "metadata": {
        "id": "k-vnyn-m9b5i",
        "colab_type": "code",
        "colab": {
          "base_uri": "https://localhost:8080/",
          "height": 136
        },
        "outputId": "737a6d2a-c6af-4d04-d472-08983e8292ad"
      },
      "source": [
        "train_data"
      ],
      "execution_count": 240,
      "outputs": [
        {
          "output_type": "execute_result",
          "data": {
            "text/plain": [
              "array([[0.04989985],\n",
              "       [0.04998694],\n",
              "       [0.05017562],\n",
              "       ...,\n",
              "       [0.13488055],\n",
              "       [0.13260182],\n",
              "       [0.13450318]])"
            ]
          },
          "metadata": {
            "tags": []
          },
          "execution_count": 240
        }
      ]
    },
    {
      "cell_type": "code",
      "metadata": {
        "id": "CyfvaXMt9h29",
        "colab_type": "code",
        "colab": {}
      },
      "source": [
        "import numpy\n",
        "# convert an array of values into a dataset matrix\n",
        "def create_dataset(dataset, time_step=1):\n",
        "\tdataX, dataY = [], []\n",
        "\tfor i in range(len(dataset)-time_step-1):\n",
        "\t\ta = dataset[i:(i+time_step), 0]    \n",
        "\t\tdataX.append(a)\n",
        "\t\tdataY.append(dataset[i + time_step, 0])\n",
        "\treturn numpy.array(dataX), numpy.array(dataY)"
      ],
      "execution_count": 241,
      "outputs": []
    },
    {
      "cell_type": "code",
      "metadata": {
        "id": "8HLHy7-r9tzv",
        "colab_type": "code",
        "colab": {}
      },
      "source": [
        "# reshape into X=t,t+1,t+2,t+3 and Y=t+4\n",
        "time_step = 100\n",
        "X_train, y_train = create_dataset(train_data, time_step)\n",
        "X_test, ytest = create_dataset(test_data, time_step)\n"
      ],
      "execution_count": 242,
      "outputs": []
    },
    {
      "cell_type": "code",
      "metadata": {
        "id": "GzHR5GIP-Ind",
        "colab_type": "code",
        "colab": {
          "base_uri": "https://localhost:8080/",
          "height": 68
        },
        "outputId": "5f4dc881-e6b6-4ed0-8494-5883f62c2169"
      },
      "source": [
        "print(X_train.shape), print(y_train.shape)"
      ],
      "execution_count": 243,
      "outputs": [
        {
          "output_type": "stream",
          "text": [
            "(3920, 100)\n",
            "(3920,)\n"
          ],
          "name": "stdout"
        },
        {
          "output_type": "execute_result",
          "data": {
            "text/plain": [
              "(None, None)"
            ]
          },
          "metadata": {
            "tags": []
          },
          "execution_count": 243
        }
      ]
    },
    {
      "cell_type": "code",
      "metadata": {
        "id": "mXCq_sPF-LuB",
        "colab_type": "code",
        "colab": {
          "base_uri": "https://localhost:8080/",
          "height": 68
        },
        "outputId": "e888328e-241e-440b-d4e2-a82aed2eacfb"
      },
      "source": [
        "print(X_test.shape), print(ytest.shape)\n"
      ],
      "execution_count": 244,
      "outputs": [
        {
          "output_type": "stream",
          "text": [
            "(905, 100)\n",
            "(905,)\n"
          ],
          "name": "stdout"
        },
        {
          "output_type": "execute_result",
          "data": {
            "text/plain": [
              "(None, None)"
            ]
          },
          "metadata": {
            "tags": []
          },
          "execution_count": 244
        }
      ]
    },
    {
      "cell_type": "code",
      "metadata": {
        "id": "loyMYA6i-ZiF",
        "colab_type": "code",
        "colab": {}
      },
      "source": [
        "# reshape input to be [samples, time steps, features] which is required for LSTM\n",
        "X_train =X_train.reshape(X_train.shape[0],X_train.shape[1] , 1)\n",
        "X_test = X_test.reshape(X_test.shape[0],X_test.shape[1] , 1)"
      ],
      "execution_count": 245,
      "outputs": []
    },
    {
      "cell_type": "code",
      "metadata": {
        "id": "5rGiXQf0-bL0",
        "colab_type": "code",
        "colab": {}
      },
      "source": [
        "### Create the Stacked LSTM model\n",
        "from tensorflow.keras.models import Sequential\n",
        "from tensorflow.keras.layers import Dense\n",
        "from tensorflow.keras.layers import LSTM"
      ],
      "execution_count": 246,
      "outputs": []
    },
    {
      "cell_type": "code",
      "metadata": {
        "id": "goI-zmDW-gKK",
        "colab_type": "code",
        "colab": {}
      },
      "source": [
        "model=Sequential()\n",
        "model.add(LSTM(50,return_sequences=True,input_shape=(100,1)))\n",
        "model.add(LSTM(50,return_sequences=True))\n",
        "model.add(LSTM(50))\n",
        "model.add(Dense(1))\n",
        "model.compile(loss='mean_squared_error',optimizer='adam')"
      ],
      "execution_count": 248,
      "outputs": []
    },
    {
      "cell_type": "code",
      "metadata": {
        "id": "AniKPzWo-lVU",
        "colab_type": "code",
        "colab": {
          "base_uri": "https://localhost:8080/",
          "height": 289
        },
        "outputId": "52c54b78-8746-438d-b8d3-715e8dd330e2"
      },
      "source": [
        "model.summary()"
      ],
      "execution_count": 249,
      "outputs": [
        {
          "output_type": "stream",
          "text": [
            "Model: \"sequential_2\"\n",
            "_________________________________________________________________\n",
            "Layer (type)                 Output Shape              Param #   \n",
            "=================================================================\n",
            "lstm_6 (LSTM)                (None, 100, 50)           10400     \n",
            "_________________________________________________________________\n",
            "lstm_7 (LSTM)                (None, 100, 50)           20200     \n",
            "_________________________________________________________________\n",
            "lstm_8 (LSTM)                (None, 50)                20200     \n",
            "_________________________________________________________________\n",
            "dense_2 (Dense)              (None, 1)                 51        \n",
            "=================================================================\n",
            "Total params: 50,851\n",
            "Trainable params: 50,851\n",
            "Non-trainable params: 0\n",
            "_________________________________________________________________\n"
          ],
          "name": "stdout"
        }
      ]
    },
    {
      "cell_type": "code",
      "metadata": {
        "id": "6D7XskBT-pWE",
        "colab_type": "code",
        "colab": {
          "base_uri": "https://localhost:8080/",
          "height": 1000
        },
        "outputId": "d2c49c90-bdf7-4538-ddc5-e116536ec551"
      },
      "source": [
        "model.fit(X_train,y_train,validation_data=(X_test,ytest),epochs=100,batch_size=64,verbose=1)"
      ],
      "execution_count": 250,
      "outputs": [
        {
          "output_type": "stream",
          "text": [
            "Epoch 1/100\n",
            "62/62 [==============================] - 12s 195ms/step - loss: 0.0113 - val_loss: 2.7345e-04\n",
            "Epoch 2/100\n",
            "62/62 [==============================] - 13s 203ms/step - loss: 0.0016 - val_loss: 3.9888e-04\n",
            "Epoch 3/100\n",
            "62/62 [==============================] - 13s 206ms/step - loss: 0.0013 - val_loss: 6.7458e-04\n",
            "Epoch 4/100\n",
            "62/62 [==============================] - 12s 195ms/step - loss: 0.0013 - val_loss: 1.7302e-04\n",
            "Epoch 5/100\n",
            "62/62 [==============================] - 13s 202ms/step - loss: 0.0011 - val_loss: 1.6964e-04\n",
            "Epoch 6/100\n",
            "62/62 [==============================] - 12s 200ms/step - loss: 0.0011 - val_loss: 5.4195e-04\n",
            "Epoch 7/100\n",
            "62/62 [==============================] - 14s 218ms/step - loss: 0.0011 - val_loss: 1.8513e-04\n",
            "Epoch 8/100\n",
            "62/62 [==============================] - 12s 195ms/step - loss: 9.1700e-04 - val_loss: 1.3260e-04\n",
            "Epoch 9/100\n",
            "62/62 [==============================] - 13s 204ms/step - loss: 0.0011 - val_loss: 2.8966e-04\n",
            "Epoch 10/100\n",
            "62/62 [==============================] - 13s 207ms/step - loss: 8.7818e-04 - val_loss: 2.8509e-04\n",
            "Epoch 11/100\n",
            "62/62 [==============================] - 13s 203ms/step - loss: 6.9202e-04 - val_loss: 1.8110e-04\n",
            "Epoch 12/100\n",
            "62/62 [==============================] - 13s 204ms/step - loss: 6.6216e-04 - val_loss: 1.3027e-04\n",
            "Epoch 13/100\n",
            "62/62 [==============================] - 13s 208ms/step - loss: 5.8841e-04 - val_loss: 6.6350e-04\n",
            "Epoch 14/100\n",
            "62/62 [==============================] - 14s 222ms/step - loss: 7.8219e-04 - val_loss: 2.2397e-04\n",
            "Epoch 15/100\n",
            "62/62 [==============================] - 13s 206ms/step - loss: 5.1347e-04 - val_loss: 1.8471e-04\n",
            "Epoch 16/100\n",
            "62/62 [==============================] - 13s 206ms/step - loss: 5.5200e-04 - val_loss: 9.7544e-05\n",
            "Epoch 17/100\n",
            "62/62 [==============================] - 13s 205ms/step - loss: 4.5675e-04 - val_loss: 1.0419e-04\n",
            "Epoch 18/100\n",
            "62/62 [==============================] - 13s 209ms/step - loss: 4.0872e-04 - val_loss: 3.4813e-04\n",
            "Epoch 19/100\n",
            "62/62 [==============================] - 13s 205ms/step - loss: 4.1802e-04 - val_loss: 1.4574e-04\n",
            "Epoch 20/100\n",
            "62/62 [==============================] - 13s 204ms/step - loss: 4.2275e-04 - val_loss: 1.0407e-04\n",
            "Epoch 21/100\n",
            "62/62 [==============================] - 13s 202ms/step - loss: 4.4149e-04 - val_loss: 7.2733e-05\n",
            "Epoch 22/100\n",
            "62/62 [==============================] - 12s 200ms/step - loss: 3.8851e-04 - val_loss: 9.1317e-05\n",
            "Epoch 23/100\n",
            "62/62 [==============================] - 12s 198ms/step - loss: 3.3577e-04 - val_loss: 8.4923e-05\n",
            "Epoch 24/100\n",
            "62/62 [==============================] - 13s 204ms/step - loss: 3.6546e-04 - val_loss: 1.2280e-04\n",
            "Epoch 25/100\n",
            "62/62 [==============================] - 13s 203ms/step - loss: 2.9570e-04 - val_loss: 4.6367e-04\n",
            "Epoch 26/100\n",
            "62/62 [==============================] - 13s 202ms/step - loss: 4.1280e-04 - val_loss: 2.8178e-04\n",
            "Epoch 27/100\n",
            "62/62 [==============================] - 12s 201ms/step - loss: 4.0266e-04 - val_loss: 9.2164e-05\n",
            "Epoch 28/100\n",
            "62/62 [==============================] - 13s 204ms/step - loss: 3.5827e-04 - val_loss: 6.8178e-05\n",
            "Epoch 29/100\n",
            "62/62 [==============================] - 13s 205ms/step - loss: 3.0955e-04 - val_loss: 6.9950e-05\n",
            "Epoch 30/100\n",
            "62/62 [==============================] - 13s 204ms/step - loss: 2.7578e-04 - val_loss: 8.5755e-05\n",
            "Epoch 31/100\n",
            "62/62 [==============================] - 13s 213ms/step - loss: 3.2498e-04 - val_loss: 6.6580e-05\n",
            "Epoch 32/100\n",
            "62/62 [==============================] - 12s 198ms/step - loss: 2.7561e-04 - val_loss: 5.6736e-05\n",
            "Epoch 33/100\n",
            "62/62 [==============================] - 13s 203ms/step - loss: 3.0958e-04 - val_loss: 6.8332e-05\n",
            "Epoch 34/100\n",
            "62/62 [==============================] - 13s 203ms/step - loss: 2.5274e-04 - val_loss: 5.9894e-05\n",
            "Epoch 35/100\n",
            "62/62 [==============================] - 13s 209ms/step - loss: 2.6735e-04 - val_loss: 6.0966e-05\n",
            "Epoch 36/100\n",
            "62/62 [==============================] - 13s 203ms/step - loss: 2.9408e-04 - val_loss: 1.6794e-04\n",
            "Epoch 37/100\n",
            "62/62 [==============================] - 12s 201ms/step - loss: 3.1247e-04 - val_loss: 5.8397e-05\n",
            "Epoch 38/100\n",
            "62/62 [==============================] - 13s 216ms/step - loss: 2.4979e-04 - val_loss: 3.0401e-04\n",
            "Epoch 39/100\n",
            "62/62 [==============================] - 12s 196ms/step - loss: 2.9611e-04 - val_loss: 6.9211e-05\n",
            "Epoch 40/100\n",
            "62/62 [==============================] - 12s 199ms/step - loss: 2.7203e-04 - val_loss: 5.3353e-05\n",
            "Epoch 41/100\n",
            "62/62 [==============================] - 13s 203ms/step - loss: 2.4560e-04 - val_loss: 7.5618e-05\n",
            "Epoch 42/100\n",
            "62/62 [==============================] - 12s 196ms/step - loss: 2.6904e-04 - val_loss: 6.3446e-05\n",
            "Epoch 43/100\n",
            "62/62 [==============================] - 12s 199ms/step - loss: 2.5376e-04 - val_loss: 7.1491e-05\n",
            "Epoch 44/100\n",
            "62/62 [==============================] - 12s 193ms/step - loss: 2.5904e-04 - val_loss: 6.0948e-05\n",
            "Epoch 45/100\n",
            "62/62 [==============================] - 12s 198ms/step - loss: 2.7146e-04 - val_loss: 2.3046e-04\n",
            "Epoch 46/100\n",
            "62/62 [==============================] - 12s 198ms/step - loss: 2.3761e-04 - val_loss: 5.1854e-05\n",
            "Epoch 47/100\n",
            "62/62 [==============================] - 12s 197ms/step - loss: 2.5547e-04 - val_loss: 6.1400e-05\n",
            "Epoch 48/100\n",
            "62/62 [==============================] - 12s 199ms/step - loss: 2.5741e-04 - val_loss: 5.1557e-05\n",
            "Epoch 49/100\n",
            "62/62 [==============================] - 12s 193ms/step - loss: 2.9217e-04 - val_loss: 5.3438e-05\n",
            "Epoch 50/100\n",
            "62/62 [==============================] - 12s 200ms/step - loss: 2.6719e-04 - val_loss: 5.3720e-05\n",
            "Epoch 51/100\n",
            "62/62 [==============================] - 13s 203ms/step - loss: 2.6498e-04 - val_loss: 7.2550e-05\n",
            "Epoch 52/100\n",
            "62/62 [==============================] - 13s 203ms/step - loss: 2.8624e-04 - val_loss: 1.2928e-04\n",
            "Epoch 53/100\n",
            "62/62 [==============================] - 12s 196ms/step - loss: 2.5869e-04 - val_loss: 6.0941e-05\n",
            "Epoch 54/100\n",
            "62/62 [==============================] - 12s 202ms/step - loss: 2.6701e-04 - val_loss: 5.4742e-05\n",
            "Epoch 55/100\n",
            "62/62 [==============================] - 13s 211ms/step - loss: 2.5425e-04 - val_loss: 5.2442e-05\n",
            "Epoch 56/100\n",
            "62/62 [==============================] - 12s 195ms/step - loss: 2.7617e-04 - val_loss: 5.9554e-05\n",
            "Epoch 57/100\n",
            "62/62 [==============================] - 12s 200ms/step - loss: 2.6266e-04 - val_loss: 5.2802e-05\n",
            "Epoch 58/100\n",
            "62/62 [==============================] - 12s 201ms/step - loss: 2.7897e-04 - val_loss: 5.0481e-05\n",
            "Epoch 59/100\n",
            "62/62 [==============================] - 13s 206ms/step - loss: 2.7889e-04 - val_loss: 5.7096e-05\n",
            "Epoch 60/100\n",
            "62/62 [==============================] - 13s 210ms/step - loss: 2.8648e-04 - val_loss: 5.0380e-05\n",
            "Epoch 61/100\n",
            "62/62 [==============================] - 13s 206ms/step - loss: 2.5735e-04 - val_loss: 1.1973e-04\n",
            "Epoch 62/100\n",
            "62/62 [==============================] - 13s 215ms/step - loss: 2.5681e-04 - val_loss: 8.1951e-05\n",
            "Epoch 63/100\n",
            "62/62 [==============================] - 14s 232ms/step - loss: 2.6233e-04 - val_loss: 1.2856e-04\n",
            "Epoch 64/100\n",
            "62/62 [==============================] - 13s 215ms/step - loss: 3.7463e-04 - val_loss: 5.0267e-05\n",
            "Epoch 65/100\n",
            "62/62 [==============================] - 13s 211ms/step - loss: 2.3532e-04 - val_loss: 5.8577e-05\n",
            "Epoch 66/100\n",
            "62/62 [==============================] - 13s 213ms/step - loss: 2.8837e-04 - val_loss: 5.8054e-05\n",
            "Epoch 67/100\n",
            "62/62 [==============================] - 13s 205ms/step - loss: 3.4245e-04 - val_loss: 6.7477e-05\n",
            "Epoch 68/100\n",
            "62/62 [==============================] - 13s 203ms/step - loss: 2.5479e-04 - val_loss: 1.2948e-04\n",
            "Epoch 69/100\n",
            "62/62 [==============================] - 12s 196ms/step - loss: 2.7699e-04 - val_loss: 5.8454e-05\n",
            "Epoch 70/100\n",
            "62/62 [==============================] - 12s 200ms/step - loss: 2.5952e-04 - val_loss: 5.6781e-05\n",
            "Epoch 71/100\n",
            "62/62 [==============================] - 13s 207ms/step - loss: 2.6671e-04 - val_loss: 4.9820e-05\n",
            "Epoch 72/100\n",
            "62/62 [==============================] - 13s 206ms/step - loss: 2.3931e-04 - val_loss: 1.1490e-04\n",
            "Epoch 73/100\n",
            "62/62 [==============================] - 13s 204ms/step - loss: 2.6013e-04 - val_loss: 6.3057e-05\n",
            "Epoch 74/100\n",
            "62/62 [==============================] - 13s 206ms/step - loss: 2.5214e-04 - val_loss: 5.2476e-05\n",
            "Epoch 75/100\n",
            "62/62 [==============================] - 13s 210ms/step - loss: 2.7364e-04 - val_loss: 4.9891e-05\n",
            "Epoch 76/100\n",
            "62/62 [==============================] - 13s 211ms/step - loss: 2.8692e-04 - val_loss: 8.2154e-05\n",
            "Epoch 77/100\n",
            "62/62 [==============================] - 12s 202ms/step - loss: 2.4124e-04 - val_loss: 1.2124e-04\n",
            "Epoch 78/100\n",
            "62/62 [==============================] - 13s 213ms/step - loss: 2.5586e-04 - val_loss: 4.9330e-05\n",
            "Epoch 79/100\n",
            "62/62 [==============================] - 14s 223ms/step - loss: 2.3340e-04 - val_loss: 6.3172e-05\n",
            "Epoch 80/100\n",
            "62/62 [==============================] - 13s 208ms/step - loss: 2.7776e-04 - val_loss: 4.7905e-05\n",
            "Epoch 81/100\n",
            "62/62 [==============================] - 13s 211ms/step - loss: 2.2071e-04 - val_loss: 2.7576e-04\n",
            "Epoch 82/100\n",
            "62/62 [==============================] - 13s 204ms/step - loss: 2.8887e-04 - val_loss: 3.5028e-04\n",
            "Epoch 83/100\n",
            "62/62 [==============================] - 13s 208ms/step - loss: 2.7300e-04 - val_loss: 6.1333e-05\n",
            "Epoch 84/100\n",
            "62/62 [==============================] - 12s 199ms/step - loss: 2.9013e-04 - val_loss: 5.1513e-05\n",
            "Epoch 85/100\n",
            "62/62 [==============================] - 12s 199ms/step - loss: 2.8018e-04 - val_loss: 8.9765e-05\n",
            "Epoch 86/100\n",
            "62/62 [==============================] - 13s 203ms/step - loss: 2.5199e-04 - val_loss: 6.1335e-05\n",
            "Epoch 87/100\n",
            "62/62 [==============================] - 14s 218ms/step - loss: 2.7832e-04 - val_loss: 5.0536e-05\n",
            "Epoch 88/100\n",
            "62/62 [==============================] - 14s 228ms/step - loss: 2.4240e-04 - val_loss: 5.3055e-05\n",
            "Epoch 89/100\n",
            "62/62 [==============================] - 12s 200ms/step - loss: 2.4184e-04 - val_loss: 4.7605e-05\n",
            "Epoch 90/100\n",
            "62/62 [==============================] - 12s 200ms/step - loss: 2.5159e-04 - val_loss: 5.1077e-05\n",
            "Epoch 91/100\n",
            "62/62 [==============================] - 13s 210ms/step - loss: 2.4777e-04 - val_loss: 4.9890e-05\n",
            "Epoch 92/100\n",
            "62/62 [==============================] - 12s 201ms/step - loss: 2.5030e-04 - val_loss: 5.0403e-05\n",
            "Epoch 93/100\n",
            "62/62 [==============================] - 13s 207ms/step - loss: 2.5398e-04 - val_loss: 6.8653e-05\n",
            "Epoch 94/100\n",
            "62/62 [==============================] - 13s 204ms/step - loss: 2.5990e-04 - val_loss: 5.4559e-05\n",
            "Epoch 95/100\n",
            "62/62 [==============================] - 13s 209ms/step - loss: 2.4373e-04 - val_loss: 7.3223e-05\n",
            "Epoch 96/100\n",
            "62/62 [==============================] - 13s 208ms/step - loss: 2.3689e-04 - val_loss: 8.0916e-05\n",
            "Epoch 97/100\n",
            "62/62 [==============================] - 13s 206ms/step - loss: 2.3628e-04 - val_loss: 1.7580e-04\n",
            "Epoch 98/100\n",
            "62/62 [==============================] - 12s 197ms/step - loss: 2.6027e-04 - val_loss: 4.6939e-05\n",
            "Epoch 99/100\n",
            "62/62 [==============================] - 13s 202ms/step - loss: 2.9886e-04 - val_loss: 4.8172e-05\n",
            "Epoch 100/100\n",
            "62/62 [==============================] - 12s 201ms/step - loss: 2.4264e-04 - val_loss: 4.6369e-05\n"
          ],
          "name": "stdout"
        },
        {
          "output_type": "execute_result",
          "data": {
            "text/plain": [
              "<tensorflow.python.keras.callbacks.History at 0x7f48d296ad68>"
            ]
          },
          "metadata": {
            "tags": []
          },
          "execution_count": 250
        }
      ]
    },
    {
      "cell_type": "code",
      "metadata": {
        "id": "tzGhaPLLDj_K",
        "colab_type": "code",
        "colab": {}
      },
      "source": [
        "import tensorflow as tf"
      ],
      "execution_count": 253,
      "outputs": []
    },
    {
      "cell_type": "code",
      "metadata": {
        "id": "NwOqIxX_DrBR",
        "colab_type": "code",
        "colab": {
          "base_uri": "https://localhost:8080/",
          "height": 35
        },
        "outputId": "9bead6a2-a7a0-4f60-f24a-5c5e0f7d2760"
      },
      "source": [
        "tf.__version__"
      ],
      "execution_count": 254,
      "outputs": [
        {
          "output_type": "execute_result",
          "data": {
            "application/vnd.google.colaboratory.intrinsic+json": {
              "type": "string"
            },
            "text/plain": [
              "'2.3.0'"
            ]
          },
          "metadata": {
            "tags": []
          },
          "execution_count": 254
        }
      ]
    },
    {
      "cell_type": "code",
      "metadata": {
        "id": "o2m9hOySDveb",
        "colab_type": "code",
        "colab": {}
      },
      "source": [
        "### Lets Do the prediction and check performance metrics\n",
        "train_predict=model.predict(X_train)\n",
        "test_predict=model.predict(X_test)"
      ],
      "execution_count": 255,
      "outputs": []
    },
    {
      "cell_type": "code",
      "metadata": {
        "id": "UJWU_3vED06z",
        "colab_type": "code",
        "colab": {}
      },
      "source": [
        "##Transformback to original form\n",
        "train_predict=scaler.inverse_transform(train_predict)\n",
        "test_predict=scaler.inverse_transform(test_predict)"
      ],
      "execution_count": 256,
      "outputs": []
    },
    {
      "cell_type": "code",
      "metadata": {
        "id": "NxNzNYl2D6Df",
        "colab_type": "code",
        "colab": {
          "base_uri": "https://localhost:8080/",
          "height": 34
        },
        "outputId": "3af35d1f-82b6-4717-c708-fe5ad180a988"
      },
      "source": [
        "### Calculate RMSE performance metrics\n",
        "import math\n",
        "from sklearn.metrics import mean_squared_error\n",
        "math.sqrt(mean_squared_error(y_train,train_predict))"
      ],
      "execution_count": 257,
      "outputs": [
        {
          "output_type": "execute_result",
          "data": {
            "text/plain": [
              "252.0541933922481"
            ]
          },
          "metadata": {
            "tags": []
          },
          "execution_count": 257
        }
      ]
    },
    {
      "cell_type": "code",
      "metadata": {
        "id": "9gGXUDONELzu",
        "colab_type": "code",
        "colab": {
          "base_uri": "https://localhost:8080/",
          "height": 34
        },
        "outputId": "d486ea48-1441-4c5d-e046-e4fca5da8903"
      },
      "source": [
        "### Test Data RMSE\n",
        "math.sqrt(mean_squared_error(ytest,test_predict))"
      ],
      "execution_count": 258,
      "outputs": [
        {
          "output_type": "execute_result",
          "data": {
            "text/plain": [
              "212.23303031335152"
            ]
          },
          "metadata": {
            "tags": []
          },
          "execution_count": 258
        }
      ]
    },
    {
      "cell_type": "code",
      "metadata": {
        "id": "1Fh61X8iERV_",
        "colab_type": "code",
        "colab": {
          "base_uri": "https://localhost:8080/",
          "height": 316
        },
        "outputId": "927052da-dfdc-4f7d-eb7b-0a278b3f12dc"
      },
      "source": [
        "### Plotting \n",
        "# shift train predictions for plotting\n",
        "plt.figure(figsize=(10,5))\n",
        "look_back=100\n",
        "trainPredictPlot = numpy.empty_like(df1)\n",
        "trainPredictPlot[:, :] = np.nan\n",
        "trainPredictPlot[look_back:len(train_predict)+look_back, :] = train_predict\n",
        "# shift test predictions for plotting\n",
        "testPredictPlot = numpy.empty_like(df1)\n",
        "testPredictPlot[:, :] = numpy.nan\n",
        "testPredictPlot[len(train_predict)+(look_back*2)+1:len(df1)-1, :] = test_predict\n",
        "# plot baseline and predictions\n",
        "plt.plot(scaler.inverse_transform(df1))\n",
        "plt.plot(trainPredictPlot)\n",
        "plt.plot(testPredictPlot)\n",
        "plt.show()"
      ],
      "execution_count": 260,
      "outputs": [
        {
          "output_type": "display_data",
          "data": {
            "image/png": "[encoded data removed]",
            "text/plain": [
              "<Figure size 720x360 with 1 Axes>"
            ]
          },
          "metadata": {
            "tags": [],
            "needs_background": "light"
          }
        }
      ]
    },
    {
      "cell_type": "code",
      "metadata": {
        "id": "u_voYCIdEn6n",
        "colab_type": "code",
        "colab": {
          "base_uri": "https://localhost:8080/",
          "height": 34
        },
        "outputId": "27beda11-53aa-4043-fe6d-6afcfb093fe8"
      },
      "source": [
        "len(test_data)"
      ],
      "execution_count": 261,
      "outputs": [
        {
          "output_type": "execute_result",
          "data": {
            "text/plain": [
              "1006"
            ]
          },
          "metadata": {
            "tags": []
          },
          "execution_count": 261
        }
      ]
    },
    {
      "cell_type": "code",
      "metadata": {
        "id": "0Zbtjd02EtSV",
        "colab_type": "code",
        "colab": {
          "base_uri": "https://localhost:8080/",
          "height": 34
        },
        "outputId": "a7da430e-087c-424c-8c2c-3f54619c49ac"
      },
      "source": [
        "x_input=test_data[906:].reshape(1,-1)\n",
        "x_input.shape"
      ],
      "execution_count": 262,
      "outputs": [
        {
          "output_type": "execute_result",
          "data": {
            "text/plain": [
              "(1, 100)"
            ]
          },
          "metadata": {
            "tags": []
          },
          "execution_count": 262
        }
      ]
    },
    {
      "cell_type": "code",
      "metadata": {
        "id": "69Yo85A9E0XT",
        "colab_type": "code",
        "colab": {}
      },
      "source": [
        "temp_input=list(x_input)\n",
        "temp_input=temp_input[0].tolist()"
      ],
      "execution_count": 263,
      "outputs": []
    },
    {
      "cell_type": "code",
      "metadata": {
        "id": "tZRWIJxuE71s",
        "colab_type": "code",
        "colab": {
          "base_uri": "https://localhost:8080/",
          "height": 1000
        },
        "outputId": "9e788526-190b-4029-9512-ea8710d1cca0"
      },
      "source": [
        "temp_input"
      ],
      "execution_count": 264,
      "outputs": [
        {
          "output_type": "execute_result",
          "data": {
            "text/plain": [
              "[0.34124357746233563,\n",
              " 0.3844088362506895,\n",
              " 0.3325060233969056,\n",
              " 0.3479636564196349,\n",
              " 0.33897936079421753,\n",
              " 0.33623617521553606,\n",
              " 0.31368109379082126,\n",
              " 0.3066126738076577,\n",
              " 0.33928415919184884,\n",
              " 0.33731022671195104,\n",
              " 0.35606258527098034,\n",
              " 0.340532381201196,\n",
              " 0.3507939272547825,\n",
              " 0.35003918836540976,\n",
              " 0.33061917617347386,\n",
              " 0.33645388835670126,\n",
              " 0.3313448866440245,\n",
              " 0.36191181166361874,\n",
              " 0.35749949200267067,\n",
              " 0.3671369270515835,\n",
              " 0.36992365525849813,\n",
              " 0.37755812940869116,\n",
              " 0.3975877383958896,\n",
              " 0.3937850155302041,\n",
              " 0.3970652268570931,\n",
              " 0.39141919939620895,\n",
              " 0.38289935847194406,\n",
              " 0.3704751952161166,\n",
              " 0.38169467909083,\n",
              " 0.38014165868385147,\n",
              " 0.39166594095619617,\n",
              " 0.39195622514441647,\n",
              " 0.38529420302476125,\n",
              " 0.39857470463583855,\n",
              " 0.4073848297483237,\n",
              " 0.40051960869691433,\n",
              " 0.40645592034601885,\n",
              " 0.41284217248686467,\n",
              " 0.41729803477604577,\n",
              " 0.42181195390287096,\n",
              " 0.4310865337165085,\n",
              " 0.438169467909083,\n",
              " 0.43294435252111824,\n",
              " 0.42748700978257714,\n",
              " 0.4302301953612587,\n",
              " 0.42757409503904326,\n",
              " 0.43809689686202796,\n",
              " 0.4354553107492235,\n",
              " 0.4442944642805307,\n",
              " 0.44084008244070955,\n",
              " 0.4438009811605562,\n",
              " 0.4406659119277774,\n",
              " 0.4426688728264972,\n",
              " 0.4428720717582514,\n",
              " 0.44242213126651,\n",
              " 0.4480971871462162,\n",
              " 0.45025980434845714,\n",
              " 0.45284333362361756,\n",
              " 0.44877935498853383,\n",
              " 0.4621033992278441,\n",
              " 0.4649481842724027,\n",
              " 0.4802316467821998,\n",
              " 0.49307672211094666,\n",
              " 0.46848965136869,\n",
              " 0.4726987720978839,\n",
              " 0.4787802258410985,\n",
              " 0.4919736421957096,\n",
              " 0.4912624459345699,\n",
              " 0.49146564486632416,\n",
              " 0.48854828877471057,\n",
              " 0.5018287903857878,\n",
              " 0.512946674794624,\n",
              " 0.5035559813056983,\n",
              " 0.5104937734041627,\n",
              " 0.49422334465441675,\n",
              " 0.5060524253243925,\n",
              " 0.5104357165665186,\n",
              " 0.5094342361171588,\n",
              " 0.5094342361171588,\n",
              " 0.5235710760834859,\n",
              " 0.5218874277918082,\n",
              " 0.5344857615605678,\n",
              " 0.536866091903974,\n",
              " 0.5378385439345119,\n",
              " 0.5352695288687626,\n",
              " 0.544442509216523,\n",
              " 0.5483178031292636,\n",
              " 0.5413364684025661,\n",
              " 0.5402043600685071,\n",
              " 0.55198989811025,\n",
              " 0.5441086824000697,\n",
              " 0.5456907312258701,\n",
              " 0.5199860663589655,\n",
              " 0.5186507590931522,\n",
              " 0.531394234956022,\n",
              " 0.5223518824929606,\n",
              " 0.5327295422218352,\n",
              " 0.5394060785509014,\n",
              " 0.5978693140584633,\n",
              " 0.6134140323376586]"
            ]
          },
          "metadata": {
            "tags": []
          },
          "execution_count": 264
        }
      ]
    },
    {
      "cell_type": "code",
      "metadata": {
        "id": "pI-KuvYQFALt",
        "colab_type": "code",
        "colab": {
          "base_uri": "https://localhost:8080/",
          "height": 680
        },
        "outputId": "16dd7c97-1999-4d6e-ccbb-3f279ed34a8c"
      },
      "source": [
        "# demonstrate prediction for next 3 days\n",
        "from numpy import array\n",
        "\n",
        "lst_output=[]\n",
        "n_steps=100\n",
        "i=0\n",
        "while(i<3):\n",
        "    \n",
        "    if(len(temp_input)>100):\n",
        "        #print(temp_input)\n",
        "        x_input=np.array(temp_input[1:])\n",
        "        print(\"{} day input {}\".format(i,x_input))\n",
        "        x_input=x_input.reshape(1,-1)\n",
        "        x_input = x_input.reshape((1, n_steps, 1))\n",
        "        #print(x_input)\n",
        "        yhat = model.predict(x_input, verbose=0)\n",
        "        print(\"{} day output {}\".format(i,yhat))\n",
        "        temp_input.extend(yhat[0].tolist())\n",
        "        temp_input=temp_input[1:]\n",
        "        #print(temp_input)\n",
        "        lst_output.extend(yhat.tolist())\n",
        "        i=i+1\n",
        "    else:\n",
        "        x_input = x_input.reshape((1, n_steps,1))\n",
        "        yhat = model.predict(x_input, verbose=0)\n",
        "        print(yhat[0])\n",
        "        temp_input.extend(yhat[0].tolist())\n",
        "        print(len(temp_input))\n",
        "        lst_output.extend(yhat.tolist())\n",
        "        i=i+1\n",
        "    \n",
        "\n",
        "print(lst_output)"
      ],
      "execution_count": 265,
      "outputs": [
        {
          "output_type": "stream",
          "text": [
            "[0.61539274]\n",
            "101\n",
            "1 day input [0.38440884 0.33250602 0.34796366 0.33897936 0.33623618 0.31368109\n",
            " 0.30661267 0.33928416 0.33731023 0.35606259 0.34053238 0.35079393\n",
            " 0.35003919 0.33061918 0.33645389 0.33134489 0.36191181 0.35749949\n",
            " 0.36713693 0.36992366 0.37755813 0.39758774 0.39378502 0.39706523\n",
            " 0.3914192  0.38289936 0.3704752  0.38169468 0.38014166 0.39166594\n",
            " 0.39195623 0.3852942  0.3985747  0.40738483 0.40051961 0.40645592\n",
            " 0.41284217 0.41729803 0.42181195 0.43108653 0.43816947 0.43294435\n",
            " 0.42748701 0.4302302  0.4275741  0.4380969  0.43545531 0.44429446\n",
            " 0.44084008 0.44380098 0.44066591 0.44266887 0.44287207 0.44242213\n",
            " 0.44809719 0.4502598  0.45284333 0.44877935 0.4621034  0.46494818\n",
            " 0.48023165 0.49307672 0.46848965 0.47269877 0.47878023 0.49197364\n",
            " 0.49126245 0.49146564 0.48854829 0.50182879 0.51294667 0.50355598\n",
            " 0.51049377 0.49422334 0.50605243 0.51043572 0.50943424 0.50943424\n",
            " 0.52357108 0.52188743 0.53448576 0.53686609 0.53783854 0.53526953\n",
            " 0.54444251 0.5483178  0.54133647 0.54020436 0.5519899  0.54410868\n",
            " 0.54569073 0.51998607 0.51865076 0.53139423 0.52235188 0.53272954\n",
            " 0.53940608 0.59786931 0.61341403 0.61539274]\n",
            "1 day output [[0.61654735]]\n",
            "2 day input [0.33250602 0.34796366 0.33897936 0.33623618 0.31368109 0.30661267\n",
            " 0.33928416 0.33731023 0.35606259 0.34053238 0.35079393 0.35003919\n",
            " 0.33061918 0.33645389 0.33134489 0.36191181 0.35749949 0.36713693\n",
            " 0.36992366 0.37755813 0.39758774 0.39378502 0.39706523 0.3914192\n",
            " 0.38289936 0.3704752  0.38169468 0.38014166 0.39166594 0.39195623\n",
            " 0.3852942  0.3985747  0.40738483 0.40051961 0.40645592 0.41284217\n",
            " 0.41729803 0.42181195 0.43108653 0.43816947 0.43294435 0.42748701\n",
            " 0.4302302  0.4275741  0.4380969  0.43545531 0.44429446 0.44084008\n",
            " 0.44380098 0.44066591 0.44266887 0.44287207 0.44242213 0.44809719\n",
            " 0.4502598  0.45284333 0.44877935 0.4621034  0.46494818 0.48023165\n",
            " 0.49307672 0.46848965 0.47269877 0.47878023 0.49197364 0.49126245\n",
            " 0.49146564 0.48854829 0.50182879 0.51294667 0.50355598 0.51049377\n",
            " 0.49422334 0.50605243 0.51043572 0.50943424 0.50943424 0.52357108\n",
            " 0.52188743 0.53448576 0.53686609 0.53783854 0.53526953 0.54444251\n",
            " 0.5483178  0.54133647 0.54020436 0.5519899  0.54410868 0.54569073\n",
            " 0.51998607 0.51865076 0.53139423 0.52235188 0.53272954 0.53940608\n",
            " 0.59786931 0.61341403 0.61539274 0.61654735]\n",
            "2 day output [[0.6147534]]\n",
            "[[0.6153927445411682], [0.6165473461151123], [0.6147534251213074]]\n"
          ],
          "name": "stdout"
        }
      ]
    },
    {
      "cell_type": "code",
      "metadata": {
        "id": "E061Fe1sFJNd",
        "colab_type": "code",
        "colab": {}
      },
      "source": [
        "day_new=np.arange(1,101)\n",
        "day_pred=np.arange(101,104)"
      ],
      "execution_count": 266,
      "outputs": []
    },
    {
      "cell_type": "code",
      "metadata": {
        "id": "IpSpYaBsFSys",
        "colab_type": "code",
        "colab": {}
      },
      "source": [
        "import matplotlib.pyplot as plt"
      ],
      "execution_count": 267,
      "outputs": []
    },
    {
      "cell_type": "code",
      "metadata": {
        "id": "BSsJotnmFWLv",
        "colab_type": "code",
        "colab": {
          "base_uri": "https://localhost:8080/",
          "height": 34
        },
        "outputId": "6a4842dc-182f-463d-a3f5-fd781c83932f"
      },
      "source": [
        "len(df1)"
      ],
      "execution_count": 268,
      "outputs": [
        {
          "output_type": "execute_result",
          "data": {
            "text/plain": [
              "5027"
            ]
          },
          "metadata": {
            "tags": []
          },
          "execution_count": 268
        }
      ]
    },
    {
      "cell_type": "code",
      "metadata": {
        "id": "DiFwXQc4Fe-D",
        "colab_type": "code",
        "colab": {
          "base_uri": "https://localhost:8080/",
          "height": 333
        },
        "outputId": "3bbc2bd7-b983-41ef-b78b-d758885e832b"
      },
      "source": [
        "plt.figure(figsize=(10,5))\n",
        "plt.plot(day_new,scaler.inverse_transform(df1[4927:]))\n",
        "plt.plot(day_pred,scaler.inverse_transform(lst_output))"
      ],
      "execution_count": 269,
      "outputs": [
        {
          "output_type": "execute_result",
          "data": {
            "text/plain": [
              "[<matplotlib.lines.Line2D at 0x7f48ce23eda0>]"
            ]
          },
          "metadata": {
            "tags": []
          },
          "execution_count": 269
        },
        {
          "output_type": "display_data",
          "data": {
            "image/png": "[encoded data removed]",
            "text/plain": [
              "<Figure size 720x360 with 1 Axes>"
            ]
          },
          "metadata": {
            "tags": [],
            "needs_background": "light"
          }
        }
      ]
    },
    {
      "cell_type": "code",
      "metadata": {
        "id": "JK90CV3pQJXq",
        "colab_type": "code",
        "colab": {
          "base_uri": "https://localhost:8080/",
          "height": 333
        },
        "outputId": "cb2c1b33-692b-45e5-db6c-6a78ae9dbd90"
      },
      "source": [
        "plt.figure(figsize=(10,5))\n",
        "df3=df1.tolist()\n",
        "df3.extend(lst_output)\n",
        "plt.plot(df3[1000:])"
      ],
      "execution_count": 270,
      "outputs": [
        {
          "output_type": "execute_result",
          "data": {
            "text/plain": [
              "[<matplotlib.lines.Line2D at 0x7f48cdfb7b00>]"
            ]
          },
          "metadata": {
            "tags": []
          },
          "execution_count": 270
        },
        {
          "output_type": "display_data",
          "data": {
            "image/png": "[encoded data removed]",
            "text/plain": [
              "<Figure size 720x360 with 1 Axes>"
            ]
          },
          "metadata": {
            "tags": [],
            "needs_background": "light"
          }
        }
      ]
    },
    {
      "cell_type": "code",
      "metadata": {
        "id": "cfvT0tzBQTHi",
        "colab_type": "code",
        "colab": {}
      },
      "source": [
        "df3=scaler.inverse_transform(df3).tolist()"
      ],
      "execution_count": null,
      "outputs": []
    },
    {
      "cell_type": "code",
      "metadata": {
        "id": "sod_5r62Qco5",
        "colab_type": "code",
        "colab": {
          "base_uri": "https://localhost:8080/",
          "height": 333
        },
        "outputId": "a9c53f2b-a3d4-416e-d91f-7de92eff6cf7"
      },
      "source": [
        "plt.figure(figsize=(10,5))\n",
        "plt.plot(df3)"
      ],
      "execution_count": 271,
      "outputs": [
        {
          "output_type": "execute_result",
          "data": {
            "text/plain": [
              "[<matplotlib.lines.Line2D at 0x7f48cdf975c0>]"
            ]
          },
          "metadata": {
            "tags": []
          },
          "execution_count": 271
        },
        {
          "output_type": "display_data",
          "data": {
            "image/png": "[encoded data removed]",
            "text/plain": [
              "<Figure size 720x360 with 1 Axes>"
            ]
          },
          "metadata": {
            "tags": [],
            "needs_background": "light"
          }
        }
      ]
    },
    {
      "cell_type": "code",
      "metadata": {
        "id": "zWmQbO2VFwPG",
        "colab_type": "code",
        "colab": {}
      },
      "source": [
        "# This is  Machine Learning model for stock price prediction for next 3 days."
      ],
      "execution_count": null,
      "outputs": []
    }
  ]
}